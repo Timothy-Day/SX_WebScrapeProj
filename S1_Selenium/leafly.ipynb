{
 "cells": [
  {
   "cell_type": "code",
   "execution_count": 108,
   "metadata": {
    "scrolled": true
   },
   "outputs": [
    {
     "name": "stdout",
     "output_type": "stream",
     "text": [
      "break equal size\n"
     ]
    }
   ],
   "source": [
    "from selenium import webdriver\n",
    "from selenium.webdriver.support.ui import WebDriverWait\n",
    "from selenium.webdriver.support import expected_conditions as EC\n",
    "from selenium.webdriver.common.by import By\n",
    "#from bs4 import BeautifulSoup\n",
    "import re\n",
    "\n",
    "# Go to the page that we want to scrape\n",
    "driver = webdriver.Chrome()\n",
    "driver.get(\"https://www.leafly.com/explore/sort-alpha\")\n",
    "\n",
    "# Pop-Up: Positive affirmation for age:\n",
    "PosAffirm_button = driver.find_element_by_xpath('//*[@id=\"tou-continue\"]')\n",
    "PosAffirm_button.click()\n",
    "\n",
    "# Click \"Load More\" button until the list is complete.  Minimum 10 clicks, maximum 60.\n",
    "loadmore_button = driver.find_element_by_xpath('//button[@class=\"ga_Explore_LoadMore m-button m-button--green m-button--lg\"]')\n",
    "element_strain_block = driver.find_element_by_xpath('//div[@class=\"explore-tiles\"]')\n",
    "size = [\"{'width': 0, 'height': 0}\"]\n",
    "size.append(str(element_strain_block.size))\n",
    "\n",
    "i=0\n",
    "while True: \n",
    "    loadmore_button = WebDriverWait(driver, 1000).until(EC.element_to_be_clickable((By.XPATH,'//button[@class=\"ga_Explore_LoadMore m-button m-button--green m-button--lg\"]')))\n",
    "    loadmore_button.click() \n",
    "    size.append(str(element_strain_block.size))\n",
    "    i = i + 1    \n",
    "    time.sleep(2.5)\n",
    "    if i > 10:\n",
    "        if size[i] == size[i-1]:\n",
    "            #print('break equal size')\n",
    "            break\n",
    "    elif i > 60: \n",
    "        #print('break greater 60')\n",
    "        break\n",
    "\n",
    "# Create a file, 'strain_urls.txt' that contains all the urls within the strain tile block.\n",
    "for a in driver.find_elements_by_xpath('//div[@class=\"l-grid strain-tile--explore trademarked\"]//a'):\n",
    "        with open('strain_urls.txt', 'a') as f:\n",
    "            f.write('\\n'+a.get_attribute('href'))\n",
    "        \n",
    "\n",
    "\n",
    "\n"
   ]
  },
  {
   "cell_type": "code",
   "execution_count": null,
   "metadata": {},
   "outputs": [],
   "source": []
  }
 ],
 "metadata": {
  "kernelspec": {
   "display_name": "Python 3",
   "language": "python",
   "name": "python3"
  },
  "language_info": {
   "codemirror_mode": {
    "name": "ipython",
    "version": 3
   },
   "file_extension": ".py",
   "mimetype": "text/x-python",
   "name": "python",
   "nbconvert_exporter": "python",
   "pygments_lexer": "ipython3",
   "version": "3.7.4"
  }
 },
 "nbformat": 4,
 "nbformat_minor": 2
}
