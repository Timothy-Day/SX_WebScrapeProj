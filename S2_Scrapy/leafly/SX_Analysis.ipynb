{
 "cells": [
  {
   "cell_type": "code",
   "execution_count": 208,
   "metadata": {},
   "outputs": [],
   "source": [
    "%matplotlib inline\n",
    "import numpy as np\n",
    "import pandas as pd\n",
    "plt.style.use('ggplot')"
   ]
  },
  {
   "cell_type": "code",
   "execution_count": 209,
   "metadata": {},
   "outputs": [],
   "source": [
    "data = pd.read_csv('leafly_strain_data.csv')\n",
    "df = pd.DataFrame(data)\n"
   ]
  },
  {
   "cell_type": "code",
   "execution_count": 210,
   "metadata": {},
   "outputs": [],
   "source": [
    "# Cleanup the Level & Flavor colummns\n",
    "# Could have done this with list comprehension.  #NextSteps\n",
    "\n",
    "\n",
    "df.loc[:, 'Effect_Level_1'].replace(regex=True, to_replace=\"width:\", value=\"\",inplace = True)\n",
    "df.loc[:, 'Effect_Level_1'].replace(regex=True, to_replace=\"%\", value=\"\",inplace = True)\n",
    "df.loc[:, 'Effect_Level_2'].replace(regex=True, to_replace=\"width:\", value=\"\",inplace = True)\n",
    "df.loc[:, 'Effect_Level_2'].replace(regex=True, to_replace=\"%\", value=\"\",inplace = True)\n",
    "df.loc[:, 'Effect_Level_3'].replace(regex=True, to_replace=\"width:\", value=\"\",inplace = True)\n",
    "df.loc[:, 'Effect_Level_3'].replace(regex=True, to_replace=\"%\", value=\"\",inplace = True)\n",
    "df.loc[:, 'Effect_Level_4'].replace(regex=True, to_replace=\"width:\", value=\"\",inplace = True)\n",
    "df.loc[:, 'Effect_Level_4'].replace(regex=True, to_replace=\"%\", value=\"\",inplace = True)\n",
    "df.loc[:, 'Effect_Level_5'].replace(regex=True, to_replace=\"width:\", value=\"\",inplace = True)\n",
    "df.loc[:, 'Effect_Level_5'].replace(regex=True, to_replace=\"%\", value=\"\",inplace = True)\n",
    "\n",
    "df.loc[:, 'Medicinal_Level_1'].replace(regex=True, to_replace=\"width:\", value=\"\",inplace = True)\n",
    "df.loc[:, 'Medicinal_Level_1'].replace(regex=True, to_replace=\"%\", value=\"\",inplace = True)\n",
    "df.loc[:, 'Medicinal_Level_2'].replace(regex=True, to_replace=\"width:\", value=\"\",inplace = True)\n",
    "df.loc[:, 'Medicinal_Level_2'].replace(regex=True, to_replace=\"%\", value=\"\",inplace = True)\n",
    "df.loc[:, 'Medicinal_Level_3'].replace(regex=True, to_replace=\"width:\", value=\"\",inplace = True)\n",
    "df.loc[:, 'Medicinal_Level_3'].replace(regex=True, to_replace=\"%\", value=\"\",inplace = True)\n",
    "df.loc[:, 'Medicinal_Level_4'].replace(regex=True, to_replace=\"width:\", value=\"\",inplace = True)\n",
    "df.loc[:, 'Medicinal_Level_4'].replace(regex=True, to_replace=\"%\", value=\"\",inplace = True)\n",
    "df.loc[:, 'Medicinal_Level_5'].replace(regex=True, to_replace=\"width:\", value=\"\",inplace = True)\n",
    "df.loc[:, 'Medicinal_Level_5'].replace(regex=True, to_replace=\"%\", value=\"\",inplace = True)\n",
    "\n",
    "df.loc[:, 'Negative_Level_1'].replace(regex=True, to_replace=\"width:\", value=\"\",inplace = True)\n",
    "df.loc[:, 'Negative_Level_1'].replace(regex=True, to_replace=\"%\", value=\"\",inplace = True)\n",
    "df.loc[:, 'Negative_Level_2'].replace(regex=True, to_replace=\"width:\", value=\"\",inplace = True)\n",
    "df.loc[:, 'Negative_Level_2'].replace(regex=True, to_replace=\"%\", value=\"\",inplace = True)\n",
    "df.loc[:, 'Negative_Level_3'].replace(regex=True, to_replace=\"width:\", value=\"\",inplace = True)\n",
    "df.loc[:, 'Negative_Level_3'].replace(regex=True, to_replace=\"%\", value=\"\",inplace = True)\n",
    "df.loc[:, 'Negative_Level_4'].replace(regex=True, to_replace=\"width:\", value=\"\",inplace = True)\n",
    "df.loc[:, 'Negative_Level_4'].replace(regex=True, to_replace=\"%\", value=\"\",inplace = True)\n",
    "df.loc[:, 'Negative_Level_5'].replace(regex=True, to_replace=\"width:\", value=\"\",inplace = True)\n",
    "df.loc[:, 'Negative_Level_5'].replace(regex=True, to_replace=\"%\", value=\"\",inplace = True)\n",
    "\n",
    "df.loc[:, 'Flavor_1'].replace(regex=True, to_replace=\"1.\", value=\"\",inplace = True)\n",
    "df.loc[:, 'Flavor_2'].replace(regex=True, to_replace=\"1.\", value=\"\",inplace = True)\n",
    "df.loc[:, 'Flavor_3'].replace(regex=True, to_replace=\"1.\", value=\"\",inplace = True)\n",
    "\n",
    "df.loc[:, 'Flavor_1'].replace(regex=True, to_replace=\"2.\", value=\"\",inplace = True)\n",
    "df.loc[:, 'Flavor_2'].replace(regex=True, to_replace=\"2.\", value=\"\",inplace = True)\n",
    "df.loc[:, 'Flavor_3'].replace(regex=True, to_replace=\"2.\", value=\"\",inplace = True)\n",
    "\n",
    "df.loc[:, 'Flavor_1'].replace(regex=True, to_replace=\"2.\", value=\"\",inplace = True)\n",
    "df.loc[:, 'Flavor_2'].replace(regex=True, to_replace=\"2.\", value=\"\",inplace = True)\n",
    "df.loc[:, 'Flavor_3'].replace(regex=True, to_replace=\"2.\", value=\"\",inplace = True)\n",
    "\n",
    "\n"
   ]
  },
  {
   "cell_type": "code",
   "execution_count": 211,
   "metadata": {},
   "outputs": [],
   "source": [
    "# Strip the dataframe.\n",
    "df_obj = df.select_dtypes(['object'])\n",
    "df[df_obj.columns] = df_obj.apply(lambda x: x.str.strip())"
   ]
  },
  {
   "cell_type": "code",
   "execution_count": 212,
   "metadata": {},
   "outputs": [],
   "source": [
    "# Column Names and Re-Ordering.\n",
    "cols = ['Name','Leafly_Name','Type','Number_of_Reviews','Rating','Flavor_1','Flavor_2','Flavor_3','Effect_1','Effect_2','Effect_3','Effect_4','Effect_5','Effect_Level_1','Effect_Level_2','Effect_Level_3','Effect_Level_4','Effect_Level_5','Medicinal_1','Medicinal_2','Medicinal_3','Medicinal_4','Medicinal_5','Medicinal_Level_1','Medicinal_Level_2','Medicinal_Level_3','Medicinal_Level_4','Medicinal_Level_5','Negative_1','Negative_2','Negative_3','Negative_4','Negative_5','Negative_Level_1','Negative_Level_2','Negative_Level_3','Negative_Level_4','Negative_Level_5']"
   ]
  },
  {
   "cell_type": "code",
   "execution_count": 213,
   "metadata": {},
   "outputs": [],
   "source": [
    "df = df[cols]"
   ]
  },
  {
   "cell_type": "code",
   "execution_count": 214,
   "metadata": {},
   "outputs": [
    {
     "data": {
      "text/html": [
       "<div>\n",
       "<style scoped>\n",
       "    .dataframe tbody tr th:only-of-type {\n",
       "        vertical-align: middle;\n",
       "    }\n",
       "\n",
       "    .dataframe tbody tr th {\n",
       "        vertical-align: top;\n",
       "    }\n",
       "\n",
       "    .dataframe thead th {\n",
       "        text-align: right;\n",
       "    }\n",
       "</style>\n",
       "<table border=\"1\" class=\"dataframe\">\n",
       "  <thead>\n",
       "    <tr style=\"text-align: right;\">\n",
       "      <th></th>\n",
       "      <th>Name</th>\n",
       "      <th>Leafly_Name</th>\n",
       "      <th>Type</th>\n",
       "      <th>Number_of_Reviews</th>\n",
       "      <th>Rating</th>\n",
       "      <th>Flavor_1</th>\n",
       "      <th>Flavor_2</th>\n",
       "      <th>Flavor_3</th>\n",
       "      <th>Effect_1</th>\n",
       "      <th>Effect_2</th>\n",
       "      <th>...</th>\n",
       "      <th>Negative_1</th>\n",
       "      <th>Negative_2</th>\n",
       "      <th>Negative_3</th>\n",
       "      <th>Negative_4</th>\n",
       "      <th>Negative_5</th>\n",
       "      <th>Negative_Level_1</th>\n",
       "      <th>Negative_Level_2</th>\n",
       "      <th>Negative_Level_3</th>\n",
       "      <th>Negative_Level_4</th>\n",
       "      <th>Negative_Level_5</th>\n",
       "    </tr>\n",
       "  </thead>\n",
       "  <tbody>\n",
       "    <tr>\n",
       "      <th>0</th>\n",
       "      <td>$100 OG</td>\n",
       "      <td>100</td>\n",
       "      <td>Hybrid</td>\n",
       "      <td>509.0</td>\n",
       "      <td>4.0</td>\n",
       "      <td>Earthy</td>\n",
       "      <td>Diesel</td>\n",
       "      <td>3. Pungent</td>\n",
       "      <td>Happy</td>\n",
       "      <td>Uplifted</td>\n",
       "      <td>...</td>\n",
       "      <td>Dry Mouth</td>\n",
       "      <td>Dizzy</td>\n",
       "      <td>Dry Eyes</td>\n",
       "      <td>Anxious</td>\n",
       "      <td>Paranoid</td>\n",
       "      <td>100</td>\n",
       "      <td>30</td>\n",
       "      <td>27</td>\n",
       "      <td>20</td>\n",
       "      <td>12</td>\n",
       "    </tr>\n",
       "    <tr>\n",
       "      <th>1</th>\n",
       "      <td>'98 Aloha White Widow</td>\n",
       "      <td>Awh</td>\n",
       "      <td>Hybrid</td>\n",
       "      <td>11.0</td>\n",
       "      <td>4.7</td>\n",
       "      <td>NaN</td>\n",
       "      <td>NaN</td>\n",
       "      <td>NaN</td>\n",
       "      <td>Creative</td>\n",
       "      <td>Relaxed</td>\n",
       "      <td>...</td>\n",
       "      <td>Dry Mouth</td>\n",
       "      <td>Anxious</td>\n",
       "      <td>Dizzy</td>\n",
       "      <td>Dry Eyes</td>\n",
       "      <td>Headache</td>\n",
       "      <td>100</td>\n",
       "      <td>88</td>\n",
       "      <td>49</td>\n",
       "      <td>49</td>\n",
       "      <td>49</td>\n",
       "    </tr>\n",
       "    <tr>\n",
       "      <th>2</th>\n",
       "      <td>1024</td>\n",
       "      <td>124</td>\n",
       "      <td>Sativa</td>\n",
       "      <td>49.0</td>\n",
       "      <td>4.5</td>\n",
       "      <td>Tropical</td>\n",
       "      <td>Mint</td>\n",
       "      <td>3. Sweet</td>\n",
       "      <td>Energetic</td>\n",
       "      <td>Uplifted</td>\n",
       "      <td>...</td>\n",
       "      <td>Dry Mouth</td>\n",
       "      <td>Dry Eyes</td>\n",
       "      <td>Dizzy</td>\n",
       "      <td>Paranoid</td>\n",
       "      <td>Anxious</td>\n",
       "      <td>100</td>\n",
       "      <td>79</td>\n",
       "      <td>39</td>\n",
       "      <td>20</td>\n",
       "      <td>2</td>\n",
       "    </tr>\n",
       "    <tr>\n",
       "      <th>3</th>\n",
       "      <td>12 Year OG</td>\n",
       "      <td>12y</td>\n",
       "      <td>Hybrid</td>\n",
       "      <td>2.0</td>\n",
       "      <td>3.0</td>\n",
       "      <td>Diesel</td>\n",
       "      <td>NaN</td>\n",
       "      <td>NaN</td>\n",
       "      <td>Focused</td>\n",
       "      <td>Creative</td>\n",
       "      <td>...</td>\n",
       "      <td>Anxious</td>\n",
       "      <td>Dizzy</td>\n",
       "      <td>Dry Eyes</td>\n",
       "      <td>Dry Mouth</td>\n",
       "      <td>Headache</td>\n",
       "      <td>100</td>\n",
       "      <td>50</td>\n",
       "      <td>50</td>\n",
       "      <td>50</td>\n",
       "      <td>50</td>\n",
       "    </tr>\n",
       "    <tr>\n",
       "      <th>4</th>\n",
       "      <td>13 Dawgs</td>\n",
       "      <td>13d</td>\n",
       "      <td>Hybrid</td>\n",
       "      <td>11.0</td>\n",
       "      <td>4.1</td>\n",
       "      <td>Diesel</td>\n",
       "      <td>Apricot</td>\n",
       "      <td>3. Citrus</td>\n",
       "      <td>Sleepy</td>\n",
       "      <td>Euphoric</td>\n",
       "      <td>...</td>\n",
       "      <td>Anxious</td>\n",
       "      <td>Dry Eyes</td>\n",
       "      <td>Headache</td>\n",
       "      <td>Dry Mouth</td>\n",
       "      <td>NaN</td>\n",
       "      <td>100</td>\n",
       "      <td>51</td>\n",
       "      <td>51</td>\n",
       "      <td>10</td>\n",
       "      <td>NaN</td>\n",
       "    </tr>\n",
       "    <tr>\n",
       "      <th>5</th>\n",
       "      <td>22</td>\n",
       "      <td>22</td>\n",
       "      <td>Hybrid</td>\n",
       "      <td>9.0</td>\n",
       "      <td>3.6</td>\n",
       "      <td>NaN</td>\n",
       "      <td>NaN</td>\n",
       "      <td>NaN</td>\n",
       "      <td>Energetic</td>\n",
       "      <td>Focused</td>\n",
       "      <td>...</td>\n",
       "      <td>Headache</td>\n",
       "      <td>NaN</td>\n",
       "      <td>NaN</td>\n",
       "      <td>NaN</td>\n",
       "      <td>NaN</td>\n",
       "      <td>100</td>\n",
       "      <td>NaN</td>\n",
       "      <td>NaN</td>\n",
       "      <td>NaN</td>\n",
       "      <td>NaN</td>\n",
       "    </tr>\n",
       "    <tr>\n",
       "      <th>6</th>\n",
       "      <td>24k Gold</td>\n",
       "      <td>24k</td>\n",
       "      <td>Hybrid</td>\n",
       "      <td>219.0</td>\n",
       "      <td>4.6</td>\n",
       "      <td>Orange</td>\n",
       "      <td>Citrus</td>\n",
       "      <td>3. Sweet</td>\n",
       "      <td>Happy</td>\n",
       "      <td>Relaxed</td>\n",
       "      <td>...</td>\n",
       "      <td>Dry Mouth</td>\n",
       "      <td>Dry Eyes</td>\n",
       "      <td>Dizzy</td>\n",
       "      <td>Anxious</td>\n",
       "      <td>Headache</td>\n",
       "      <td>100</td>\n",
       "      <td>47</td>\n",
       "      <td>20</td>\n",
       "      <td>18</td>\n",
       "      <td>9</td>\n",
       "    </tr>\n",
       "    <tr>\n",
       "      <th>7</th>\n",
       "      <td>3 Bears OG</td>\n",
       "      <td>3bs</td>\n",
       "      <td>Indica</td>\n",
       "      <td>7.0</td>\n",
       "      <td>4.4</td>\n",
       "      <td>Diesel</td>\n",
       "      <td>Sweet</td>\n",
       "      <td>3. Butter</td>\n",
       "      <td>Relaxed</td>\n",
       "      <td>Giggly</td>\n",
       "      <td>...</td>\n",
       "      <td>Dry Mouth</td>\n",
       "      <td>Dry Eyes</td>\n",
       "      <td>Headache</td>\n",
       "      <td>Anxious</td>\n",
       "      <td>NaN</td>\n",
       "      <td>100</td>\n",
       "      <td>75</td>\n",
       "      <td>75</td>\n",
       "      <td>69</td>\n",
       "      <td>NaN</td>\n",
       "    </tr>\n",
       "    <tr>\n",
       "      <th>8</th>\n",
       "      <td>3 Kings</td>\n",
       "      <td>3k</td>\n",
       "      <td>Hybrid</td>\n",
       "      <td>326.0</td>\n",
       "      <td>4.4</td>\n",
       "      <td>Earthy</td>\n",
       "      <td>Diesel</td>\n",
       "      <td>3. Pine</td>\n",
       "      <td>Happy</td>\n",
       "      <td>Relaxed</td>\n",
       "      <td>...</td>\n",
       "      <td>Dry Mouth</td>\n",
       "      <td>Dry Eyes</td>\n",
       "      <td>Headache</td>\n",
       "      <td>Dizzy</td>\n",
       "      <td>Paranoid</td>\n",
       "      <td>100</td>\n",
       "      <td>61</td>\n",
       "      <td>23</td>\n",
       "      <td>23</td>\n",
       "      <td>19</td>\n",
       "    </tr>\n",
       "    <tr>\n",
       "      <th>9</th>\n",
       "      <td>303 OG</td>\n",
       "      <td>303</td>\n",
       "      <td>Indica</td>\n",
       "      <td>82.0</td>\n",
       "      <td>4.3</td>\n",
       "      <td>Diesel</td>\n",
       "      <td>Earthy</td>\n",
       "      <td>3. Woody</td>\n",
       "      <td>Relaxed</td>\n",
       "      <td>Focused</td>\n",
       "      <td>...</td>\n",
       "      <td>Dry Mouth</td>\n",
       "      <td>Dry Eyes</td>\n",
       "      <td>Dizzy</td>\n",
       "      <td>Anxious</td>\n",
       "      <td>NaN</td>\n",
       "      <td>100</td>\n",
       "      <td>7</td>\n",
       "      <td>5</td>\n",
       "      <td>2</td>\n",
       "      <td>NaN</td>\n",
       "    </tr>\n",
       "  </tbody>\n",
       "</table>\n",
       "<p>10 rows × 38 columns</p>\n",
       "</div>"
      ],
      "text/plain": [
       "                    Name Leafly_Name    Type  Number_of_Reviews  Rating  \\\n",
       "0                $100 OG         100  Hybrid              509.0     4.0   \n",
       "1  '98 Aloha White Widow         Awh  Hybrid               11.0     4.7   \n",
       "2                   1024         124  Sativa               49.0     4.5   \n",
       "3             12 Year OG         12y  Hybrid                2.0     3.0   \n",
       "4               13 Dawgs         13d  Hybrid               11.0     4.1   \n",
       "5                     22          22  Hybrid                9.0     3.6   \n",
       "6               24k Gold         24k  Hybrid              219.0     4.6   \n",
       "7             3 Bears OG         3bs  Indica                7.0     4.4   \n",
       "8                3 Kings          3k  Hybrid              326.0     4.4   \n",
       "9                 303 OG         303  Indica               82.0     4.3   \n",
       "\n",
       "   Flavor_1 Flavor_2    Flavor_3   Effect_1  Effect_2  ... Negative_1  \\\n",
       "0    Earthy   Diesel  3. Pungent      Happy  Uplifted  ...  Dry Mouth   \n",
       "1       NaN      NaN         NaN   Creative   Relaxed  ...  Dry Mouth   \n",
       "2  Tropical     Mint    3. Sweet  Energetic  Uplifted  ...  Dry Mouth   \n",
       "3    Diesel      NaN         NaN    Focused  Creative  ...    Anxious   \n",
       "4    Diesel  Apricot   3. Citrus     Sleepy  Euphoric  ...    Anxious   \n",
       "5       NaN      NaN         NaN  Energetic   Focused  ...   Headache   \n",
       "6    Orange   Citrus    3. Sweet      Happy   Relaxed  ...  Dry Mouth   \n",
       "7    Diesel    Sweet   3. Butter    Relaxed    Giggly  ...  Dry Mouth   \n",
       "8    Earthy   Diesel     3. Pine      Happy   Relaxed  ...  Dry Mouth   \n",
       "9    Diesel   Earthy    3. Woody    Relaxed   Focused  ...  Dry Mouth   \n",
       "\n",
       "  Negative_2 Negative_3 Negative_4 Negative_5 Negative_Level_1  \\\n",
       "0      Dizzy   Dry Eyes    Anxious   Paranoid              100   \n",
       "1    Anxious      Dizzy   Dry Eyes   Headache              100   \n",
       "2   Dry Eyes      Dizzy   Paranoid    Anxious              100   \n",
       "3      Dizzy   Dry Eyes  Dry Mouth   Headache              100   \n",
       "4   Dry Eyes   Headache  Dry Mouth        NaN              100   \n",
       "5        NaN        NaN        NaN        NaN              100   \n",
       "6   Dry Eyes      Dizzy    Anxious   Headache              100   \n",
       "7   Dry Eyes   Headache    Anxious        NaN              100   \n",
       "8   Dry Eyes   Headache      Dizzy   Paranoid              100   \n",
       "9   Dry Eyes      Dizzy    Anxious        NaN              100   \n",
       "\n",
       "  Negative_Level_2 Negative_Level_3 Negative_Level_4 Negative_Level_5  \n",
       "0               30               27               20               12  \n",
       "1               88               49               49               49  \n",
       "2               79               39               20                2  \n",
       "3               50               50               50               50  \n",
       "4               51               51               10              NaN  \n",
       "5              NaN              NaN              NaN              NaN  \n",
       "6               47               20               18                9  \n",
       "7               75               75               69              NaN  \n",
       "8               61               23               23               19  \n",
       "9                7                5                2              NaN  \n",
       "\n",
       "[10 rows x 38 columns]"
      ]
     },
     "execution_count": 214,
     "metadata": {},
     "output_type": "execute_result"
    }
   ],
   "source": [
    "df[0:10]"
   ]
  },
  {
   "cell_type": "code",
   "execution_count": 215,
   "metadata": {},
   "outputs": [
    {
     "data": {
      "text/plain": [
       "(2963, 2779, 184)"
      ]
     },
     "execution_count": 215,
     "metadata": {},
     "output_type": "execute_result"
    }
   ],
   "source": [
    "# So, now we should have a usable dataframe.  Let's check out what the aggregate stats look like.  \n",
    "# Let's whittle down the list to those those reviewed:\n",
    "x = (len(df.index))\n",
    "y = df['Number_of_Reviews'].count()\n",
    "z = x-y\n",
    "x, y, z"
   ]
  },
  {
   "cell_type": "code",
   "execution_count": 216,
   "metadata": {},
   "outputs": [
    {
     "name": "stdout",
     "output_type": "stream",
     "text": [
      "2779\n"
     ]
    }
   ],
   "source": [
    "df = df[pd.notnull(df['Number_of_Reviews'])]\n",
    "print(len(df.index))\n",
    "\n",
    "# So that worked as expected."
   ]
  },
  {
   "cell_type": "code",
   "execution_count": 217,
   "metadata": {},
   "outputs": [
    {
     "data": {
      "text/html": [
       "<div>\n",
       "<style scoped>\n",
       "    .dataframe tbody tr th:only-of-type {\n",
       "        vertical-align: middle;\n",
       "    }\n",
       "\n",
       "    .dataframe tbody tr th {\n",
       "        vertical-align: top;\n",
       "    }\n",
       "\n",
       "    .dataframe thead th {\n",
       "        text-align: right;\n",
       "    }\n",
       "</style>\n",
       "<table border=\"1\" class=\"dataframe\">\n",
       "  <thead>\n",
       "    <tr style=\"text-align: right;\">\n",
       "      <th></th>\n",
       "      <th>Name</th>\n",
       "      <th>Leafly_Name</th>\n",
       "      <th>Type</th>\n",
       "      <th>Number_of_Reviews</th>\n",
       "      <th>Rating</th>\n",
       "      <th>Flavor_1</th>\n",
       "      <th>Flavor_2</th>\n",
       "      <th>Flavor_3</th>\n",
       "      <th>Effect_1</th>\n",
       "      <th>Effect_2</th>\n",
       "      <th>...</th>\n",
       "      <th>Negative_1</th>\n",
       "      <th>Negative_2</th>\n",
       "      <th>Negative_3</th>\n",
       "      <th>Negative_4</th>\n",
       "      <th>Negative_5</th>\n",
       "      <th>Negative_Level_1</th>\n",
       "      <th>Negative_Level_2</th>\n",
       "      <th>Negative_Level_3</th>\n",
       "      <th>Negative_Level_4</th>\n",
       "      <th>Negative_Level_5</th>\n",
       "    </tr>\n",
       "  </thead>\n",
       "  <tbody>\n",
       "    <tr>\n",
       "      <th>355</th>\n",
       "      <td>Blue Dream</td>\n",
       "      <td>Bd</td>\n",
       "      <td>Hybrid</td>\n",
       "      <td>12722.0</td>\n",
       "      <td>4.4</td>\n",
       "      <td>Blueberry</td>\n",
       "      <td>Sweet</td>\n",
       "      <td>3. Berry</td>\n",
       "      <td>Happy</td>\n",
       "      <td>Relaxed</td>\n",
       "      <td>...</td>\n",
       "      <td>Dry Mouth</td>\n",
       "      <td>Dry Eyes</td>\n",
       "      <td>Anxious</td>\n",
       "      <td>Dizzy</td>\n",
       "      <td>Paranoid</td>\n",
       "      <td>100</td>\n",
       "      <td>50</td>\n",
       "      <td>24</td>\n",
       "      <td>24</td>\n",
       "      <td>21</td>\n",
       "    </tr>\n",
       "    <tr>\n",
       "      <th>2454</th>\n",
       "      <td>Sour Diesel</td>\n",
       "      <td>Sd</td>\n",
       "      <td>Sativa</td>\n",
       "      <td>7331.0</td>\n",
       "      <td>4.4</td>\n",
       "      <td>Diesel</td>\n",
       "      <td>Earthy</td>\n",
       "      <td>3. Pungent</td>\n",
       "      <td>Happy</td>\n",
       "      <td>Uplifted</td>\n",
       "      <td>...</td>\n",
       "      <td>Dry Mouth</td>\n",
       "      <td>Dry Eyes</td>\n",
       "      <td>Anxious</td>\n",
       "      <td>Paranoid</td>\n",
       "      <td>Dizzy</td>\n",
       "      <td>100</td>\n",
       "      <td>53</td>\n",
       "      <td>33</td>\n",
       "      <td>30</td>\n",
       "      <td>22</td>\n",
       "    </tr>\n",
       "    <tr>\n",
       "      <th>1076</th>\n",
       "      <td>GSC</td>\n",
       "      <td>Gsc</td>\n",
       "      <td>Hybrid</td>\n",
       "      <td>6769.0</td>\n",
       "      <td>4.5</td>\n",
       "      <td>Sweet</td>\n",
       "      <td>Earthy</td>\n",
       "      <td>3. Flowery</td>\n",
       "      <td>Happy</td>\n",
       "      <td>Relaxed</td>\n",
       "      <td>...</td>\n",
       "      <td>Dry Mouth</td>\n",
       "      <td>Dry Eyes</td>\n",
       "      <td>Anxious</td>\n",
       "      <td>Dizzy</td>\n",
       "      <td>Paranoid</td>\n",
       "      <td>100</td>\n",
       "      <td>62</td>\n",
       "      <td>26</td>\n",
       "      <td>26</td>\n",
       "      <td>20</td>\n",
       "    </tr>\n",
       "    <tr>\n",
       "      <th>1204</th>\n",
       "      <td>Green Crack</td>\n",
       "      <td>Gc</td>\n",
       "      <td>Sativa</td>\n",
       "      <td>6067.0</td>\n",
       "      <td>4.4</td>\n",
       "      <td>Earthy</td>\n",
       "      <td>Citrus</td>\n",
       "      <td>3. Sweet</td>\n",
       "      <td>Energetic</td>\n",
       "      <td>Happy</td>\n",
       "      <td>...</td>\n",
       "      <td>Dry Mouth</td>\n",
       "      <td>Dry Eyes</td>\n",
       "      <td>Anxious</td>\n",
       "      <td>Paranoid</td>\n",
       "      <td>Dizzy</td>\n",
       "      <td>100</td>\n",
       "      <td>52</td>\n",
       "      <td>40</td>\n",
       "      <td>36</td>\n",
       "      <td>30</td>\n",
       "    </tr>\n",
       "    <tr>\n",
       "      <th>1923</th>\n",
       "      <td>OG Kush</td>\n",
       "      <td>Ogk</td>\n",
       "      <td>Hybrid</td>\n",
       "      <td>5087.0</td>\n",
       "      <td>4.4</td>\n",
       "      <td>Earthy</td>\n",
       "      <td>Woody</td>\n",
       "      <td>3. Pine</td>\n",
       "      <td>Relaxed</td>\n",
       "      <td>Happy</td>\n",
       "      <td>...</td>\n",
       "      <td>Dry Mouth</td>\n",
       "      <td>Dry Eyes</td>\n",
       "      <td>Dizzy</td>\n",
       "      <td>Paranoid</td>\n",
       "      <td>Anxious</td>\n",
       "      <td>100</td>\n",
       "      <td>57</td>\n",
       "      <td>36</td>\n",
       "      <td>28</td>\n",
       "      <td>25</td>\n",
       "    </tr>\n",
       "    <tr>\n",
       "      <th>1163</th>\n",
       "      <td>Granddaddy Purple</td>\n",
       "      <td>Gdp</td>\n",
       "      <td>Indica</td>\n",
       "      <td>4546.0</td>\n",
       "      <td>4.5</td>\n",
       "      <td>Grape</td>\n",
       "      <td>Berry</td>\n",
       "      <td>3. Sweet</td>\n",
       "      <td>Relaxed</td>\n",
       "      <td>Sleepy</td>\n",
       "      <td>...</td>\n",
       "      <td>Dry Mouth</td>\n",
       "      <td>Dry Eyes</td>\n",
       "      <td>Dizzy</td>\n",
       "      <td>Anxious</td>\n",
       "      <td>Paranoid</td>\n",
       "      <td>100</td>\n",
       "      <td>54</td>\n",
       "      <td>20</td>\n",
       "      <td>19</td>\n",
       "      <td>19</td>\n",
       "    </tr>\n",
       "    <tr>\n",
       "      <th>1401</th>\n",
       "      <td>Jack Herer</td>\n",
       "      <td>Jh</td>\n",
       "      <td>Sativa</td>\n",
       "      <td>4079.0</td>\n",
       "      <td>4.4</td>\n",
       "      <td>Earthy</td>\n",
       "      <td>Pine</td>\n",
       "      <td>3. Woody</td>\n",
       "      <td>Happy</td>\n",
       "      <td>Uplifted</td>\n",
       "      <td>...</td>\n",
       "      <td>Dry Mouth</td>\n",
       "      <td>Dry Eyes</td>\n",
       "      <td>Anxious</td>\n",
       "      <td>Paranoid</td>\n",
       "      <td>Headache</td>\n",
       "      <td>100</td>\n",
       "      <td>62</td>\n",
       "      <td>32</td>\n",
       "      <td>25</td>\n",
       "      <td>21</td>\n",
       "    </tr>\n",
       "    <tr>\n",
       "      <th>1989</th>\n",
       "      <td>Original Glue</td>\n",
       "      <td>Gg4</td>\n",
       "      <td>Hybrid</td>\n",
       "      <td>3872.0</td>\n",
       "      <td>4.7</td>\n",
       "      <td>Earthy</td>\n",
       "      <td>Pungent</td>\n",
       "      <td>3. Pine</td>\n",
       "      <td>Relaxed</td>\n",
       "      <td>Euphoric</td>\n",
       "      <td>...</td>\n",
       "      <td>Dry Mouth</td>\n",
       "      <td>Dry Eyes</td>\n",
       "      <td>Paranoid</td>\n",
       "      <td>Dizzy</td>\n",
       "      <td>Anxious</td>\n",
       "      <td>100</td>\n",
       "      <td>53</td>\n",
       "      <td>23</td>\n",
       "      <td>20</td>\n",
       "      <td>20</td>\n",
       "    </tr>\n",
       "    <tr>\n",
       "      <th>2924</th>\n",
       "      <td>White Widow</td>\n",
       "      <td>Ww</td>\n",
       "      <td>Hybrid</td>\n",
       "      <td>3835.0</td>\n",
       "      <td>4.4</td>\n",
       "      <td>Earthy</td>\n",
       "      <td>Flowery</td>\n",
       "      <td>3. Woody</td>\n",
       "      <td>Happy</td>\n",
       "      <td>Relaxed</td>\n",
       "      <td>...</td>\n",
       "      <td>Dry Mouth</td>\n",
       "      <td>Dry Eyes</td>\n",
       "      <td>Paranoid</td>\n",
       "      <td>Dizzy</td>\n",
       "      <td>Anxious</td>\n",
       "      <td>100</td>\n",
       "      <td>43</td>\n",
       "      <td>26</td>\n",
       "      <td>20</td>\n",
       "      <td>19</td>\n",
       "    </tr>\n",
       "    <tr>\n",
       "      <th>2050</th>\n",
       "      <td>Pineapple Express</td>\n",
       "      <td>Pex</td>\n",
       "      <td>Hybrid</td>\n",
       "      <td>3292.0</td>\n",
       "      <td>4.4</td>\n",
       "      <td>Pineapple</td>\n",
       "      <td>Sweet</td>\n",
       "      <td>3. Tropical</td>\n",
       "      <td>Happy</td>\n",
       "      <td>Uplifted</td>\n",
       "      <td>...</td>\n",
       "      <td>Dry Mouth</td>\n",
       "      <td>Dry Eyes</td>\n",
       "      <td>Paranoid</td>\n",
       "      <td>Anxious</td>\n",
       "      <td>Dizzy</td>\n",
       "      <td>100</td>\n",
       "      <td>55</td>\n",
       "      <td>28</td>\n",
       "      <td>26</td>\n",
       "      <td>17</td>\n",
       "    </tr>\n",
       "  </tbody>\n",
       "</table>\n",
       "<p>10 rows × 38 columns</p>\n",
       "</div>"
      ],
      "text/plain": [
       "                   Name Leafly_Name    Type  Number_of_Reviews  Rating  \\\n",
       "355          Blue Dream          Bd  Hybrid            12722.0     4.4   \n",
       "2454        Sour Diesel          Sd  Sativa             7331.0     4.4   \n",
       "1076                GSC         Gsc  Hybrid             6769.0     4.5   \n",
       "1204        Green Crack          Gc  Sativa             6067.0     4.4   \n",
       "1923            OG Kush         Ogk  Hybrid             5087.0     4.4   \n",
       "1163  Granddaddy Purple         Gdp  Indica             4546.0     4.5   \n",
       "1401         Jack Herer          Jh  Sativa             4079.0     4.4   \n",
       "1989      Original Glue         Gg4  Hybrid             3872.0     4.7   \n",
       "2924        White Widow          Ww  Hybrid             3835.0     4.4   \n",
       "2050  Pineapple Express         Pex  Hybrid             3292.0     4.4   \n",
       "\n",
       "       Flavor_1 Flavor_2     Flavor_3   Effect_1  Effect_2  ... Negative_1  \\\n",
       "355   Blueberry    Sweet     3. Berry      Happy   Relaxed  ...  Dry Mouth   \n",
       "2454     Diesel   Earthy   3. Pungent      Happy  Uplifted  ...  Dry Mouth   \n",
       "1076      Sweet   Earthy   3. Flowery      Happy   Relaxed  ...  Dry Mouth   \n",
       "1204     Earthy   Citrus     3. Sweet  Energetic     Happy  ...  Dry Mouth   \n",
       "1923     Earthy    Woody      3. Pine    Relaxed     Happy  ...  Dry Mouth   \n",
       "1163      Grape    Berry     3. Sweet    Relaxed    Sleepy  ...  Dry Mouth   \n",
       "1401     Earthy     Pine     3. Woody      Happy  Uplifted  ...  Dry Mouth   \n",
       "1989     Earthy  Pungent      3. Pine    Relaxed  Euphoric  ...  Dry Mouth   \n",
       "2924     Earthy  Flowery     3. Woody      Happy   Relaxed  ...  Dry Mouth   \n",
       "2050  Pineapple    Sweet  3. Tropical      Happy  Uplifted  ...  Dry Mouth   \n",
       "\n",
       "     Negative_2 Negative_3 Negative_4 Negative_5 Negative_Level_1  \\\n",
       "355    Dry Eyes    Anxious      Dizzy   Paranoid              100   \n",
       "2454   Dry Eyes    Anxious   Paranoid      Dizzy              100   \n",
       "1076   Dry Eyes    Anxious      Dizzy   Paranoid              100   \n",
       "1204   Dry Eyes    Anxious   Paranoid      Dizzy              100   \n",
       "1923   Dry Eyes      Dizzy   Paranoid    Anxious              100   \n",
       "1163   Dry Eyes      Dizzy    Anxious   Paranoid              100   \n",
       "1401   Dry Eyes    Anxious   Paranoid   Headache              100   \n",
       "1989   Dry Eyes   Paranoid      Dizzy    Anxious              100   \n",
       "2924   Dry Eyes   Paranoid      Dizzy    Anxious              100   \n",
       "2050   Dry Eyes   Paranoid    Anxious      Dizzy              100   \n",
       "\n",
       "     Negative_Level_2 Negative_Level_3 Negative_Level_4 Negative_Level_5  \n",
       "355                50               24               24               21  \n",
       "2454               53               33               30               22  \n",
       "1076               62               26               26               20  \n",
       "1204               52               40               36               30  \n",
       "1923               57               36               28               25  \n",
       "1163               54               20               19               19  \n",
       "1401               62               32               25               21  \n",
       "1989               53               23               20               20  \n",
       "2924               43               26               20               19  \n",
       "2050               55               28               26               17  \n",
       "\n",
       "[10 rows x 38 columns]"
      ]
     },
     "execution_count": 217,
     "metadata": {},
     "output_type": "execute_result"
    }
   ],
   "source": [
    "df.sort_values('Number_of_Reviews', ascending = False)[0:10]"
   ]
  },
  {
   "cell_type": "code",
   "execution_count": 218,
   "metadata": {},
   "outputs": [
    {
     "data": {
      "text/plain": [
       "Hybrid    56.459158\n",
       "Indica    26.844189\n",
       "Sativa    16.696653\n",
       "Name: Type, dtype: float64"
      ]
     },
     "execution_count": 218,
     "metadata": {},
     "output_type": "execute_result"
    }
   ],
   "source": [
    "# Now we will look into types to see what proportion are Sativa, Indica, or Hybrid and present as a pie chart.\n",
    "\n",
    "df_type = df['Type'].value_counts(normalize=True) * 100\n",
    "df_type"
   ]
  },
  {
   "cell_type": "code",
   "execution_count": 219,
   "metadata": {},
   "outputs": [
    {
     "data": {
      "text/html": [
       "<div>\n",
       "<style scoped>\n",
       "    .dataframe tbody tr th:only-of-type {\n",
       "        vertical-align: middle;\n",
       "    }\n",
       "\n",
       "    .dataframe tbody tr th {\n",
       "        vertical-align: top;\n",
       "    }\n",
       "\n",
       "    .dataframe thead th {\n",
       "        text-align: right;\n",
       "    }\n",
       "</style>\n",
       "<table border=\"1\" class=\"dataframe\">\n",
       "  <thead>\n",
       "    <tr style=\"text-align: right;\">\n",
       "      <th></th>\n",
       "      <th>Type</th>\n",
       "    </tr>\n",
       "  </thead>\n",
       "  <tbody>\n",
       "    <tr>\n",
       "      <th>Hybrid</th>\n",
       "      <td>56.459158</td>\n",
       "    </tr>\n",
       "    <tr>\n",
       "      <th>Indica</th>\n",
       "      <td>26.844189</td>\n",
       "    </tr>\n",
       "    <tr>\n",
       "      <th>Sativa</th>\n",
       "      <td>16.696653</td>\n",
       "    </tr>\n",
       "  </tbody>\n",
       "</table>\n",
       "</div>"
      ],
      "text/plain": [
       "             Type\n",
       "Hybrid  56.459158\n",
       "Indica  26.844189\n",
       "Sativa  16.696653"
      ]
     },
     "execution_count": 219,
     "metadata": {},
     "output_type": "execute_result"
    }
   ],
   "source": [
    "dftf = df_type.to_frame()\n",
    "dftf"
   ]
  },
  {
   "cell_type": "code",
   "execution_count": 220,
   "metadata": {},
   "outputs": [
    {
     "data": {
      "text/plain": [
       "<matplotlib.axes._subplots.AxesSubplot at 0x1131b1e50>"
      ]
     },
     "execution_count": 220,
     "metadata": {},
     "output_type": "execute_result"
    },
    {
     "data": {
      "image/png": "[encoded data removed]",
      "text/plain": [
       "<Figure size 360x360 with 1 Axes>"
      ]
     },
     "metadata": {},
     "output_type": "display_data"
    }
   ],
   "source": [
    "df_type.to_frame().plot.pie(y='Type',autopct='%.2f',figsize=(5, 5))"
   ]
  },
  {
   "cell_type": "code",
   "execution_count": 224,
   "metadata": {},
   "outputs": [
    {
     "data": {
      "text/plain": [
       "313503.0"
      ]
     },
     "execution_count": 224,
     "metadata": {},
     "output_type": "execute_result"
    }
   ],
   "source": [
    "# Now we move on to review... reviews.\n",
    "sum(df['Number_of_Reviews'])"
   ]
  },
  {
   "cell_type": "code",
   "execution_count": 252,
   "metadata": {
    "scrolled": false
   },
   "outputs": [
    {
     "data": {
      "text/plain": [
       "(array([2.764e+03, 1.100e+01, 3.000e+00, 0.000e+00, 1.000e+00]),\n",
       " array([1.00000e+00, 2.54520e+03, 5.08940e+03, 7.63360e+03, 1.01778e+04,\n",
       "        1.27220e+04]),\n",
       " <a list of 5 Patch objects>)"
      ]
     },
     "execution_count": 252,
     "metadata": {},
     "output_type": "execute_result"
    },
    {
     "data": {
      "image/png": "[encoded data removed]",
      "text/plain": [
       "<Figure size 432x288 with 1 Axes>"
      ]
     },
     "metadata": {},
     "output_type": "display_data"
    }
   ],
   "source": [
    "plt.hist(df['Number_of_Reviews'], bins=5, color=\"#085f08\")"
   ]
  },
  {
   "cell_type": "code",
   "execution_count": 262,
   "metadata": {},
   "outputs": [
    {
     "data": {
      "text/plain": [
       "(array([228., 130.,  87.,  78.,  66.,  51.,  84.,  45.,  68.,  50.,  83.,\n",
       "         42.,  35.,  41.,  32.,  33.,  31.,  27.,  25.,  31.,  48.,  17.,\n",
       "         25.,  26.,  24.,  22.,  17.,  19.,  13.,  20.,  35.,  12.,  17.,\n",
       "         15.,  11.,  17.,  21.,  20.,  12.,   9.,  26.,  10.,  16.,  19.,\n",
       "          8.,  15.,   9.,   7.,  10.,  13.]),\n",
       " array([ 2. ,  3.1,  4.2,  5.3,  6.4,  7.5,  8.6,  9.7, 10.8, 11.9, 13. ,\n",
       "        14.1, 15.2, 16.3, 17.4, 18.5, 19.6, 20.7, 21.8, 22.9, 24. , 25.1,\n",
       "        26.2, 27.3, 28.4, 29.5, 30.6, 31.7, 32.8, 33.9, 35. , 36.1, 37.2,\n",
       "        38.3, 39.4, 40.5, 41.6, 42.7, 43.8, 44.9, 46. , 47.1, 48.2, 49.3,\n",
       "        50.4, 51.5, 52.6, 53.7, 54.8, 55.9, 57. ]),\n",
       " <a list of 50 Patch objects>)"
      ]
     },
     "execution_count": 262,
     "metadata": {},
     "output_type": "execute_result"
    },
    {
     "data": {
      "image/png": "[encoded data removed]",
      "text/plain": [
       "<Figure size 432x288 with 1 Axes>"
      ]
     },
     "metadata": {},
     "output_type": "display_data"
    }
   ],
   "source": [
    "# Note that we should discard the outliers and make a note of which... .  \n",
    "# Here I simply tossed out an arbitrary number to get a feel for the distribution.  \n",
    "# A better way would be to remove outliers based on the sd.\n",
    "\n",
    "h = df['Number_of_Reviews'].sort_values()\n",
    "plt.hist(h[200:2000], bins=50, color=\"#085f08\")"
   ]
  },
  {
   "cell_type": "code",
   "execution_count": 277,
   "metadata": {},
   "outputs": [
    {
     "data": {
      "text/plain": [
       "Text(0, 0.5, 'Rating')"
      ]
     },
     "execution_count": 277,
     "metadata": {},
     "output_type": "execute_result"
    },
    {
     "data": {
      "image/png": "[encoded data removed]",
      "text/plain": [
       "<Figure size 432x288 with 1 Axes>"
      ]
     },
     "metadata": {},
     "output_type": "display_data"
    }
   ],
   "source": [
    "#df.plot.scatter(x='budget', y='gross')\n",
    "\n",
    "df.plot(kind='scatter',x='Number_of_Reviews', y='Rating',alpha = .1,color=\"#085f08\")\n",
    "plt.xlabel('No. Reviews')\n",
    "plt.ylabel('Rating')"
   ]
  },
  {
   "cell_type": "code",
   "execution_count": 287,
   "metadata": {},
   "outputs": [
    {
     "data": {
      "text/plain": [
       "<matplotlib.axes._subplots.AxesSubplot at 0x125c32f50>"
      ]
     },
     "execution_count": 287,
     "metadata": {},
     "output_type": "execute_result"
    },
    {
     "data": {
      "image/png": "[encoded data removed]",
      "text/plain": [
       "<Figure size 432x288 with 1 Axes>"
      ]
     },
     "metadata": {},
     "output_type": "display_data"
    }
   ],
   "source": [
    "df_rr = df[['Number_of_Reviews', 'Rating']]\n",
    "df_rr = df_rr.loc[df_rr.apply(lambda x: np.abs(x - x.mean()) / x.std() < 3).all(axis=1)]\n",
    "df_rr.apply(lambda x: np.abs(x - x.mean()) / x.std() < 3).all(axis=1)\n",
    "df_rr.plot.scatter(y='Number_of_Reviews', x='Rating',alpha = 1, color=\"#085f08\")"
   ]
  },
  {
   "cell_type": "code",
   "execution_count": 288,
   "metadata": {},
   "outputs": [],
   "source": [
    "# Now we turn to Medicinal Uses.  Note for Next Steps that we might combine Medicinal_1 - Medicinal_5 and think about how to incorporate the levels."
   ]
  },
  {
   "cell_type": "code",
   "execution_count": 299,
   "metadata": {},
   "outputs": [
    {
     "data": {
      "text/plain": [
       "<matplotlib.axes._subplots.AxesSubplot at 0x127c558d0>"
      ]
     },
     "execution_count": 299,
     "metadata": {},
     "output_type": "execute_result"
    },
    {
     "data": {
      "text/plain": [
       "<Figure size 1440x432 with 0 Axes>"
      ]
     },
     "metadata": {},
     "output_type": "display_data"
    },
    {
     "data": {
      "image/png": "[encoded data removed]",
      "text/plain": [
       "<Figure size 432x288 with 1 Axes>"
      ]
     },
     "metadata": {},
     "output_type": "display_data"
    }
   ],
   "source": [
    "plt.figure(figsize=(20,6))\n",
    "df_med = df['Medicinal_1'].value_counts(normalize=True) * 100 \n",
    "df_med.to_frame().plot.bar(color='#085f08')"
   ]
  },
  {
   "cell_type": "code",
   "execution_count": 300,
   "metadata": {},
   "outputs": [
    {
     "data": {
      "text/plain": [
       "Stress              42.851593\n",
       "Depression          22.299922\n",
       "Pain                13.830614\n",
       "Insomnia             6.332556\n",
       "Fatigue              3.418803\n",
       "Headaches            2.369852\n",
       "Eye Pressure         1.942502\n",
       "Cramps               1.825952\n",
       "Inflammation         1.631702\n",
       "Lack of Appetite     1.554002\n",
       "Nausea               0.854701\n",
       "Muscle Spasms        0.699301\n",
       "Spasticity           0.310800\n",
       "Seizures             0.077700\n",
       "Name: Medicinal_1, dtype: float64"
      ]
     },
     "execution_count": 300,
     "metadata": {},
     "output_type": "execute_result"
    }
   ],
   "source": [
    "df_med"
   ]
  },
  {
   "cell_type": "code",
   "execution_count": 301,
   "metadata": {},
   "outputs": [
    {
     "data": {
      "text/plain": [
       "<matplotlib.axes._subplots.AxesSubplot at 0x127d7c950>"
      ]
     },
     "execution_count": 301,
     "metadata": {},
     "output_type": "execute_result"
    },
    {
     "data": {
      "text/plain": [
       "<Figure size 1440x432 with 0 Axes>"
      ]
     },
     "metadata": {},
     "output_type": "display_data"
    },
    {
     "data": {
      "image/png": "[encoded data removed]",
      "text/plain": [
       "<Figure size 432x288 with 1 Axes>"
      ]
     },
     "metadata": {},
     "output_type": "display_data"
    }
   ],
   "source": [
    "plt.figure(figsize=(20,6))\n",
    "df_effect = df['Effect_1'].value_counts(normalize=True) * 100 \n",
    "df_effect.to_frame().plot.bar(color='#085f08')"
   ]
  },
  {
   "cell_type": "code",
   "execution_count": 302,
   "metadata": {},
   "outputs": [
    {
     "data": {
      "text/plain": [
       "Relaxed      37.462798\n",
       "Happy        22.395833\n",
       "Euphoric     12.537202\n",
       "Uplifted      7.254464\n",
       "Creative      5.766369\n",
       "Energetic     5.022321\n",
       "Focused       2.790179\n",
       "Aroused       2.157738\n",
       "Sleepy        1.822917\n",
       "Hungry        1.339286\n",
       "Giggly        0.595238\n",
       "Tingly        0.446429\n",
       "Talkative     0.409226\n",
       "Name: Effect_1, dtype: float64"
      ]
     },
     "execution_count": 302,
     "metadata": {},
     "output_type": "execute_result"
    }
   ],
   "source": [
    "df_effect"
   ]
  },
  {
   "cell_type": "code",
   "execution_count": 303,
   "metadata": {},
   "outputs": [
    {
     "data": {
      "text/plain": [
       "<matplotlib.axes._subplots.AxesSubplot at 0x1290af910>"
      ]
     },
     "execution_count": 303,
     "metadata": {},
     "output_type": "execute_result"
    },
    {
     "data": {
      "text/plain": [
       "<Figure size 1440x432 with 0 Axes>"
      ]
     },
     "metadata": {},
     "output_type": "display_data"
    },
    {
     "data": {
      "image/png": "[encoded data removed]",
      "text/plain": [
       "<Figure size 432x288 with 1 Axes>"
      ]
     },
     "metadata": {},
     "output_type": "display_data"
    }
   ],
   "source": [
    "plt.figure(figsize=(20,6))\n",
    "df_neg = df['Negative_1'].value_counts(normalize=True) * 100 \n",
    "df_neg.to_frame().plot.bar(color='#085f08')"
   ]
  },
  {
   "cell_type": "code",
   "execution_count": 304,
   "metadata": {},
   "outputs": [
    {
     "data": {
      "text/plain": [
       "Dry Mouth    64.430894\n",
       "Dry Eyes     18.008130\n",
       "Anxious       7.113821\n",
       "Dizzy         6.666667\n",
       "Paranoid      2.032520\n",
       "Headache      1.747967\n",
       "Name: Negative_1, dtype: float64"
      ]
     },
     "execution_count": 304,
     "metadata": {},
     "output_type": "execute_result"
    }
   ],
   "source": [
    "df_neg"
   ]
  },
  {
   "cell_type": "code",
   "execution_count": 305,
   "metadata": {},
   "outputs": [
    {
     "data": {
      "text/plain": [
       "<matplotlib.axes._subplots.AxesSubplot at 0x129197a50>"
      ]
     },
     "execution_count": 305,
     "metadata": {},
     "output_type": "execute_result"
    },
    {
     "data": {
      "text/plain": [
       "<Figure size 1440x432 with 0 Axes>"
      ]
     },
     "metadata": {},
     "output_type": "display_data"
    },
    {
     "data": {
      "image/png": "[encoded data removed]",
      "text/plain": [
       "<Figure size 432x288 with 1 Axes>"
      ]
     },
     "metadata": {},
     "output_type": "display_data"
    }
   ],
   "source": [
    "plt.figure(figsize=(20,6))\n",
    "df_flav = df['Flavor_1'].value_counts(normalize=True) * 100 \n",
    "df_flav.to_frame().plot.bar(color='#085f08')"
   ]
  },
  {
   "cell_type": "code",
   "execution_count": 306,
   "metadata": {},
   "outputs": [
    {
     "data": {
      "text/plain": [
       "Earthy          26.972130\n",
       "Sweet           11.525744\n",
       "Citrus           9.683514\n",
       "Berry            6.754842\n",
       "Diesel           4.770902\n",
       "Blueberry        3.778932\n",
       "Lemon            3.542749\n",
       "Flowery          3.212093\n",
       "Pine             3.070383\n",
       "Pungent          2.834199\n",
       "Woody            2.598016\n",
       "Grape            2.456306\n",
       "Spicy/Herbal     1.889466\n",
       "Skunk            1.700520\n",
       "Cheese           1.369863\n",
       "Orange           1.228153\n",
       "Tropical         1.133680\n",
       "Strawberry       0.944733\n",
       "Pineapple        0.944733\n",
       "Apple            0.803023\n",
       "Chemical         0.755786\n",
       "Mango            0.708550\n",
       "Coffee           0.614077\n",
       "Pepper           0.566840\n",
       "Lavender         0.566840\n",
       "Lime             0.519603\n",
       "Mint             0.519603\n",
       "Grapefruit       0.425130\n",
       "Nutty            0.377893\n",
       "Honey            0.377893\n",
       "Blue Cheese      0.377893\n",
       "Sage             0.377893\n",
       "Vanilla          0.330657\n",
       "Butter           0.330657\n",
       "Tree Fruit       0.236183\n",
       "Apricot          0.236183\n",
       "Peach            0.236183\n",
       "Rose             0.236183\n",
       "Chestnut         0.236183\n",
       "Tea              0.188947\n",
       "Menthol          0.141710\n",
       "Ammonia          0.141710\n",
       "Tar              0.094473\n",
       "Violet           0.094473\n",
       "Plum             0.047237\n",
       "Pear             0.047237\n",
       "Name: Flavor_1, dtype: float64"
      ]
     },
     "execution_count": 306,
     "metadata": {},
     "output_type": "execute_result"
    }
   ],
   "source": [
    "df_flav"
   ]
  },
  {
   "cell_type": "code",
   "execution_count": null,
   "metadata": {},
   "outputs": [],
   "source": []
  }
 ],
 "metadata": {
  "kernelspec": {
   "display_name": "Python 3",
   "language": "python",
   "name": "python3"
  },
  "language_info": {
   "codemirror_mode": {
    "name": "ipython",
    "version": 3
   },
   "file_extension": ".py",
   "mimetype": "text/x-python",
   "name": "python",
   "nbconvert_exporter": "python",
   "pygments_lexer": "ipython3",
   "version": "3.7.4"
  }
 },
 "nbformat": 4,
 "nbformat_minor": 2
}
